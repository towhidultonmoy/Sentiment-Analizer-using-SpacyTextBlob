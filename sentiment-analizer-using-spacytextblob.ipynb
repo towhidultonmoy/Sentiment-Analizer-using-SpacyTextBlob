{
 "cells": [
  {
   "cell_type": "markdown",
   "id": "dff90b97",
   "metadata": {
    "papermill": {
     "duration": 0.010188,
     "end_time": "2022-06-02T06:34:04.448580",
     "exception": false,
     "start_time": "2022-06-02T06:34:04.438392",
     "status": "completed"
    },
    "tags": []
   },
   "source": [
    "**Official documentation page:**\n",
    "\n",
    "https://spacy.io/universe/project/spacy-textblob"
   ]
  },
  {
   "cell_type": "code",
   "execution_count": 1,
   "id": "9a43934e",
   "metadata": {
    "execution": {
     "iopub.execute_input": "2022-06-02T06:34:04.470194Z",
     "iopub.status.busy": "2022-06-02T06:34:04.469697Z",
     "iopub.status.idle": "2022-06-02T06:34:35.573644Z",
     "shell.execute_reply": "2022-06-02T06:34:35.572109Z"
    },
    "papermill": {
     "duration": 31.118693,
     "end_time": "2022-06-02T06:34:35.577185",
     "exception": false,
     "start_time": "2022-06-02T06:34:04.458492",
     "status": "completed"
    },
    "tags": []
   },
   "outputs": [],
   "source": [
    "%%capture\n",
    "pip install spacytextblob"
   ]
  },
  {
   "cell_type": "code",
   "execution_count": 2,
   "id": "6778bba4",
   "metadata": {
    "execution": {
     "iopub.execute_input": "2022-06-02T06:34:35.598015Z",
     "iopub.status.busy": "2022-06-02T06:34:35.597567Z",
     "iopub.status.idle": "2022-06-02T06:34:47.403635Z",
     "shell.execute_reply": "2022-06-02T06:34:47.402261Z"
    },
    "papermill": {
     "duration": 11.819526,
     "end_time": "2022-06-02T06:34:47.406297",
     "exception": false,
     "start_time": "2022-06-02T06:34:35.586771",
     "status": "completed"
    },
    "tags": []
   },
   "outputs": [],
   "source": [
    "import numpy as np \n",
    "import pandas as pd \n",
    "import spacy\n",
    "from IPython.display import Markdown as md\n",
    "from spacytextblob.spacytextblob import SpacyTextBlob\n",
    "import matplotlib.pyplot as plt"
   ]
  },
  {
   "cell_type": "code",
   "execution_count": 3,
   "id": "75e400b4",
   "metadata": {
    "execution": {
     "iopub.execute_input": "2022-06-02T06:34:47.427276Z",
     "iopub.status.busy": "2022-06-02T06:34:47.425598Z",
     "iopub.status.idle": "2022-06-02T06:34:47.431410Z",
     "shell.execute_reply": "2022-06-02T06:34:47.430490Z"
    },
    "papermill": {
     "duration": 0.018667,
     "end_time": "2022-06-02T06:34:47.433880",
     "exception": false,
     "start_time": "2022-06-02T06:34:47.415213",
     "status": "completed"
    },
    "tags": []
   },
   "outputs": [],
   "source": [
    "# User input text\n",
    "user_input = 'This is an amazing app'"
   ]
  },
  {
   "cell_type": "code",
   "execution_count": 4,
   "id": "fd5fb77c",
   "metadata": {
    "execution": {
     "iopub.execute_input": "2022-06-02T06:34:47.456159Z",
     "iopub.status.busy": "2022-06-02T06:34:47.455583Z",
     "iopub.status.idle": "2022-06-02T06:34:47.776597Z",
     "shell.execute_reply": "2022-06-02T06:34:47.774552Z"
    },
    "papermill": {
     "duration": 0.336001,
     "end_time": "2022-06-02T06:34:47.780138",
     "exception": false,
     "start_time": "2022-06-02T06:34:47.444137",
     "status": "completed"
    },
    "tags": []
   },
   "outputs": [
    {
     "data": {
      "text/html": [
       "<div>\n",
       "<style scoped>\n",
       "    .dataframe tbody tr th:only-of-type {\n",
       "        vertical-align: middle;\n",
       "    }\n",
       "\n",
       "    .dataframe tbody tr th {\n",
       "        vertical-align: top;\n",
       "    }\n",
       "\n",
       "    .dataframe thead th {\n",
       "        text-align: right;\n",
       "    }\n",
       "</style>\n",
       "<table border=\"1\" class=\"dataframe\">\n",
       "  <thead>\n",
       "    <tr style=\"text-align: right;\">\n",
       "      <th></th>\n",
       "      <th>id</th>\n",
       "      <th>conversation_id</th>\n",
       "      <th>created_at</th>\n",
       "      <th>date</th>\n",
       "      <th>time</th>\n",
       "      <th>timezone</th>\n",
       "      <th>user_id</th>\n",
       "      <th>username</th>\n",
       "      <th>name</th>\n",
       "      <th>place</th>\n",
       "      <th>...</th>\n",
       "      <th>geo</th>\n",
       "      <th>source</th>\n",
       "      <th>user_rt_id</th>\n",
       "      <th>user_rt</th>\n",
       "      <th>retweet_id</th>\n",
       "      <th>reply_to</th>\n",
       "      <th>retweet_date</th>\n",
       "      <th>translate</th>\n",
       "      <th>trans_src</th>\n",
       "      <th>trans_dest</th>\n",
       "    </tr>\n",
       "  </thead>\n",
       "  <tbody>\n",
       "    <tr>\n",
       "      <th>0</th>\n",
       "      <td>1532147780415651840</td>\n",
       "      <td>1532147780415651840</td>\n",
       "      <td>2022-06-01 23:51:11 UTC</td>\n",
       "      <td>2022-06-01</td>\n",
       "      <td>23:51:11</td>\n",
       "      <td>0</td>\n",
       "      <td>1323523071035146242</td>\n",
       "      <td>dauz4trump</td>\n",
       "      <td>Gladioli Dauz</td>\n",
       "      <td>NaN</td>\n",
       "      <td>...</td>\n",
       "      <td>NaN</td>\n",
       "      <td>NaN</td>\n",
       "      <td>NaN</td>\n",
       "      <td>NaN</td>\n",
       "      <td>NaN</td>\n",
       "      <td>[]</td>\n",
       "      <td>NaN</td>\n",
       "      <td>NaN</td>\n",
       "      <td>NaN</td>\n",
       "      <td>NaN</td>\n",
       "    </tr>\n",
       "    <tr>\n",
       "      <th>1</th>\n",
       "      <td>1532147777978892288</td>\n",
       "      <td>1532146033484079104</td>\n",
       "      <td>2022-06-01 23:51:10 UTC</td>\n",
       "      <td>2022-06-01</td>\n",
       "      <td>23:51:10</td>\n",
       "      <td>0</td>\n",
       "      <td>1162438416744767489</td>\n",
       "      <td>charley841</td>\n",
       "      <td>Charley84</td>\n",
       "      <td>NaN</td>\n",
       "      <td>...</td>\n",
       "      <td>NaN</td>\n",
       "      <td>NaN</td>\n",
       "      <td>NaN</td>\n",
       "      <td>NaN</td>\n",
       "      <td>NaN</td>\n",
       "      <td>[{'screen_name': 'calgarysun', 'name': 'Calgar...</td>\n",
       "      <td>NaN</td>\n",
       "      <td>NaN</td>\n",
       "      <td>NaN</td>\n",
       "      <td>NaN</td>\n",
       "    </tr>\n",
       "    <tr>\n",
       "      <th>2</th>\n",
       "      <td>1532147760211828736</td>\n",
       "      <td>1532147760211828736</td>\n",
       "      <td>2022-06-01 23:51:06 UTC</td>\n",
       "      <td>2022-06-01</td>\n",
       "      <td>23:51:06</td>\n",
       "      <td>0</td>\n",
       "      <td>1451573961741983751</td>\n",
       "      <td>lurkingbatman</td>\n",
       "      <td>Bohack Mohack 🪵🔥</td>\n",
       "      <td>NaN</td>\n",
       "      <td>...</td>\n",
       "      <td>NaN</td>\n",
       "      <td>NaN</td>\n",
       "      <td>NaN</td>\n",
       "      <td>NaN</td>\n",
       "      <td>NaN</td>\n",
       "      <td>[]</td>\n",
       "      <td>NaN</td>\n",
       "      <td>NaN</td>\n",
       "      <td>NaN</td>\n",
       "      <td>NaN</td>\n",
       "    </tr>\n",
       "    <tr>\n",
       "      <th>3</th>\n",
       "      <td>1532147759029043202</td>\n",
       "      <td>1532147759029043202</td>\n",
       "      <td>2022-06-01 23:51:06 UTC</td>\n",
       "      <td>2022-06-01</td>\n",
       "      <td>23:51:06</td>\n",
       "      <td>0</td>\n",
       "      <td>127021956</td>\n",
       "      <td>danydrugs</td>\n",
       "      <td>Danydrugs</td>\n",
       "      <td>NaN</td>\n",
       "      <td>...</td>\n",
       "      <td>NaN</td>\n",
       "      <td>NaN</td>\n",
       "      <td>NaN</td>\n",
       "      <td>NaN</td>\n",
       "      <td>NaN</td>\n",
       "      <td>[]</td>\n",
       "      <td>NaN</td>\n",
       "      <td>NaN</td>\n",
       "      <td>NaN</td>\n",
       "      <td>NaN</td>\n",
       "    </tr>\n",
       "    <tr>\n",
       "      <th>4</th>\n",
       "      <td>1532147757938528256</td>\n",
       "      <td>1532147757938528256</td>\n",
       "      <td>2022-06-01 23:51:06 UTC</td>\n",
       "      <td>2022-06-01</td>\n",
       "      <td>23:51:06</td>\n",
       "      <td>0</td>\n",
       "      <td>1462205842099511299</td>\n",
       "      <td>rajak63518442</td>\n",
       "      <td>RaJak</td>\n",
       "      <td>NaN</td>\n",
       "      <td>...</td>\n",
       "      <td>NaN</td>\n",
       "      <td>NaN</td>\n",
       "      <td>NaN</td>\n",
       "      <td>NaN</td>\n",
       "      <td>NaN</td>\n",
       "      <td>[]</td>\n",
       "      <td>NaN</td>\n",
       "      <td>NaN</td>\n",
       "      <td>NaN</td>\n",
       "      <td>NaN</td>\n",
       "    </tr>\n",
       "  </tbody>\n",
       "</table>\n",
       "<p>5 rows × 36 columns</p>\n",
       "</div>"
      ],
      "text/plain": [
       "                    id      conversation_id               created_at  \\\n",
       "0  1532147780415651840  1532147780415651840  2022-06-01 23:51:11 UTC   \n",
       "1  1532147777978892288  1532146033484079104  2022-06-01 23:51:10 UTC   \n",
       "2  1532147760211828736  1532147760211828736  2022-06-01 23:51:06 UTC   \n",
       "3  1532147759029043202  1532147759029043202  2022-06-01 23:51:06 UTC   \n",
       "4  1532147757938528256  1532147757938528256  2022-06-01 23:51:06 UTC   \n",
       "\n",
       "         date      time  timezone              user_id       username  \\\n",
       "0  2022-06-01  23:51:11         0  1323523071035146242     dauz4trump   \n",
       "1  2022-06-01  23:51:10         0  1162438416744767489     charley841   \n",
       "2  2022-06-01  23:51:06         0  1451573961741983751  lurkingbatman   \n",
       "3  2022-06-01  23:51:06         0            127021956      danydrugs   \n",
       "4  2022-06-01  23:51:06         0  1462205842099511299  rajak63518442   \n",
       "\n",
       "               name place  ... geo source user_rt_id user_rt retweet_id  \\\n",
       "0     Gladioli Dauz   NaN  ... NaN    NaN        NaN     NaN        NaN   \n",
       "1         Charley84   NaN  ... NaN    NaN        NaN     NaN        NaN   \n",
       "2  Bohack Mohack 🪵🔥   NaN  ... NaN    NaN        NaN     NaN        NaN   \n",
       "3         Danydrugs   NaN  ... NaN    NaN        NaN     NaN        NaN   \n",
       "4             RaJak   NaN  ... NaN    NaN        NaN     NaN        NaN   \n",
       "\n",
       "                                            reply_to  retweet_date  translate  \\\n",
       "0                                                 []           NaN        NaN   \n",
       "1  [{'screen_name': 'calgarysun', 'name': 'Calgar...           NaN        NaN   \n",
       "2                                                 []           NaN        NaN   \n",
       "3                                                 []           NaN        NaN   \n",
       "4                                                 []           NaN        NaN   \n",
       "\n",
       "  trans_src trans_dest  \n",
       "0       NaN        NaN  \n",
       "1       NaN        NaN  \n",
       "2       NaN        NaN  \n",
       "3       NaN        NaN  \n",
       "4       NaN        NaN  \n",
       "\n",
       "[5 rows x 36 columns]"
      ]
     },
     "execution_count": 4,
     "metadata": {},
     "output_type": "execute_result"
    }
   ],
   "source": [
    "df=pd.read_csv(\"../input/twitter-reacts-to-johnny-depps-win-dataset/twitter.csv\")\n",
    "df.head()"
   ]
  },
  {
   "cell_type": "code",
   "execution_count": 5,
   "id": "7f0d6a4a",
   "metadata": {
    "execution": {
     "iopub.execute_input": "2022-06-02T06:34:47.803036Z",
     "iopub.status.busy": "2022-06-02T06:34:47.802606Z",
     "iopub.status.idle": "2022-06-02T06:34:47.812210Z",
     "shell.execute_reply": "2022-06-02T06:34:47.810960Z"
    },
    "papermill": {
     "duration": 0.022817,
     "end_time": "2022-06-02T06:34:47.814352",
     "exception": false,
     "start_time": "2022-06-02T06:34:47.791535",
     "status": "completed"
    },
    "tags": []
   },
   "outputs": [
    {
     "data": {
      "text/plain": [
       "Index(['id', 'conversation_id', 'created_at', 'date', 'time', 'timezone',\n",
       "       'user_id', 'username', 'name', 'place', 'tweet', 'language', 'mentions',\n",
       "       'urls', 'photos', 'replies_count', 'retweets_count', 'likes_count',\n",
       "       'hashtags', 'cashtags', 'link', 'retweet', 'quote_url', 'video',\n",
       "       'thumbnail', 'near', 'geo', 'source', 'user_rt_id', 'user_rt',\n",
       "       'retweet_id', 'reply_to', 'retweet_date', 'translate', 'trans_src',\n",
       "       'trans_dest'],\n",
       "      dtype='object')"
      ]
     },
     "execution_count": 5,
     "metadata": {},
     "output_type": "execute_result"
    }
   ],
   "source": [
    "df.columns"
   ]
  },
  {
   "cell_type": "code",
   "execution_count": 6,
   "id": "f8791f7d",
   "metadata": {
    "execution": {
     "iopub.execute_input": "2022-06-02T06:34:47.839219Z",
     "iopub.status.busy": "2022-06-02T06:34:47.838447Z",
     "iopub.status.idle": "2022-06-02T06:34:47.852662Z",
     "shell.execute_reply": "2022-06-02T06:34:47.851246Z"
    },
    "papermill": {
     "duration": 0.027959,
     "end_time": "2022-06-02T06:34:47.855494",
     "exception": false,
     "start_time": "2022-06-02T06:34:47.827535",
     "status": "completed"
    },
    "tags": []
   },
   "outputs": [
    {
     "data": {
      "text/plain": [
       "0        LIVE: Watch verdict in Johnny Depp Amber Heard...\n",
       "1        @calgarysun \"Tell them, I, Johnny Depp, I'm a ...\n",
       "2        Except you didn’t say that the jury said Amber...\n",
       "3        Hoy Twitter Mexico fue como ver un programa de...\n",
       "4        The punitive damages tells what the jury was t...\n",
       "                               ...                        \n",
       "10002    no voy a discutir  sobre quien es más culpable...\n",
       "10003    @skzfurryera the fallout from the Johnny depp ...\n",
       "10004    Johnny Depp vs Amber Heard Trial - Jack Sparro...\n",
       "10005    My thoughts on the Amber Heard - Johnny Depp t...\n",
       "10006    Messi 🐐 won, Zinchenko won Johnny Depp won and...\n",
       "Name: tweet, Length: 10007, dtype: object"
      ]
     },
     "execution_count": 6,
     "metadata": {},
     "output_type": "execute_result"
    }
   ],
   "source": [
    "df['tweet']"
   ]
  },
  {
   "cell_type": "code",
   "execution_count": 7,
   "id": "19569329",
   "metadata": {
    "execution": {
     "iopub.execute_input": "2022-06-02T06:34:47.878092Z",
     "iopub.status.busy": "2022-06-02T06:34:47.877606Z",
     "iopub.status.idle": "2022-06-02T06:34:48.889595Z",
     "shell.execute_reply": "2022-06-02T06:34:48.888694Z"
    },
    "papermill": {
     "duration": 1.02665,
     "end_time": "2022-06-02T06:34:48.892075",
     "exception": false,
     "start_time": "2022-06-02T06:34:47.865425",
     "status": "completed"
    },
    "tags": []
   },
   "outputs": [],
   "source": [
    "nlp = spacy.load('en_core_web_sm')\n",
    "_=nlp.add_pipe('spacytextblob')"
   ]
  },
  {
   "cell_type": "code",
   "execution_count": 8,
   "id": "b77f758a",
   "metadata": {
    "execution": {
     "iopub.execute_input": "2022-06-02T06:34:48.913205Z",
     "iopub.status.busy": "2022-06-02T06:34:48.912628Z",
     "iopub.status.idle": "2022-06-02T06:34:48.926136Z",
     "shell.execute_reply": "2022-06-02T06:34:48.924764Z"
    },
    "papermill": {
     "duration": 0.027085,
     "end_time": "2022-06-02T06:34:48.928905",
     "exception": false,
     "start_time": "2022-06-02T06:34:48.901820",
     "status": "completed"
    },
    "tags": []
   },
   "outputs": [],
   "source": [
    "tweets=df[df['language']=='en'].tweet #Conducting analysis only for English language tweets"
   ]
  },
  {
   "cell_type": "code",
   "execution_count": 9,
   "id": "911e1ec6",
   "metadata": {
    "execution": {
     "iopub.execute_input": "2022-06-02T06:34:48.951108Z",
     "iopub.status.busy": "2022-06-02T06:34:48.950685Z",
     "iopub.status.idle": "2022-06-02T06:34:48.956844Z",
     "shell.execute_reply": "2022-06-02T06:34:48.955615Z"
    },
    "papermill": {
     "duration": 0.020281,
     "end_time": "2022-06-02T06:34:48.958981",
     "exception": false,
     "start_time": "2022-06-02T06:34:48.938700",
     "status": "completed"
    },
    "tags": []
   },
   "outputs": [],
   "source": [
    "tweets=tweets.to_list() #converting it to list"
   ]
  },
  {
   "cell_type": "code",
   "execution_count": 10,
   "id": "3f22ae3b",
   "metadata": {
    "execution": {
     "iopub.execute_input": "2022-06-02T06:34:48.981741Z",
     "iopub.status.busy": "2022-06-02T06:34:48.980419Z",
     "iopub.status.idle": "2022-06-02T06:34:48.986106Z",
     "shell.execute_reply": "2022-06-02T06:34:48.985348Z"
    },
    "papermill": {
     "duration": 0.019324,
     "end_time": "2022-06-02T06:34:48.988207",
     "exception": false,
     "start_time": "2022-06-02T06:34:48.968883",
     "status": "completed"
    },
    "tags": []
   },
   "outputs": [],
   "source": [
    "from tqdm import tqdm"
   ]
  },
  {
   "cell_type": "code",
   "execution_count": 11,
   "id": "e5d3f029",
   "metadata": {
    "execution": {
     "iopub.execute_input": "2022-06-02T06:34:49.010482Z",
     "iopub.status.busy": "2022-06-02T06:34:49.009836Z",
     "iopub.status.idle": "2022-06-02T06:34:49.015554Z",
     "shell.execute_reply": "2022-06-02T06:34:49.014628Z"
    },
    "papermill": {
     "duration": 0.019791,
     "end_time": "2022-06-02T06:34:49.017635",
     "exception": false,
     "start_time": "2022-06-02T06:34:48.997844",
     "status": "completed"
    },
    "tags": []
   },
   "outputs": [],
   "source": [
    "headers = [\"Negative\", \"Neutral\", \"Positive\"]"
   ]
  },
  {
   "cell_type": "code",
   "execution_count": 12,
   "id": "0e4cffb6",
   "metadata": {
    "execution": {
     "iopub.execute_input": "2022-06-02T06:34:49.039323Z",
     "iopub.status.busy": "2022-06-02T06:34:49.038111Z",
     "iopub.status.idle": "2022-06-02T06:34:49.047102Z",
     "shell.execute_reply": "2022-06-02T06:34:49.045670Z"
    },
    "papermill": {
     "duration": 0.022414,
     "end_time": "2022-06-02T06:34:49.049505",
     "exception": false,
     "start_time": "2022-06-02T06:34:49.027091",
     "status": "completed"
    },
    "tags": []
   },
   "outputs": [
    {
     "data": {
      "text/plain": [
       "'Neutral'"
      ]
     },
     "execution_count": 12,
     "metadata": {},
     "output_type": "execute_result"
    }
   ],
   "source": [
    "headers[1]"
   ]
  },
  {
   "cell_type": "code",
   "execution_count": 13,
   "id": "4e6ebf69",
   "metadata": {
    "execution": {
     "iopub.execute_input": "2022-06-02T06:34:49.070467Z",
     "iopub.status.busy": "2022-06-02T06:34:49.069941Z",
     "iopub.status.idle": "2022-06-02T06:36:25.111522Z",
     "shell.execute_reply": "2022-06-02T06:36:25.110002Z"
    },
    "papermill": {
     "duration": 96.057211,
     "end_time": "2022-06-02T06:36:25.116107",
     "exception": false,
     "start_time": "2022-06-02T06:34:49.058896",
     "status": "completed"
    },
    "tags": []
   },
   "outputs": [
    {
     "name": "stderr",
     "output_type": "stream",
     "text": [
      "100%|██████████| 6757/6757 [01:36<00:00, 70.36it/s]\n"
     ]
    }
   ],
   "source": [
    "sentiment=[]\n",
    "score=[]\n",
    "for i in tqdm(range(0,len(tweets))):\n",
    "    score.append(nlp(tweets[i])._.polarity) #The threshold was selected based on the distribution of the values. The distribuition can be seen below\n",
    "    if score[i] >= 0.1:\n",
    "        index = 2\n",
    "        sentiment.append(headers[index])\n",
    "    elif score[i] < 0:\n",
    "        index = 0\n",
    "        sentiment.append(headers[index])\n",
    "    else:\n",
    "        index=1\n",
    "        sentiment.append(headers[index])\n",
    "    \n",
    "    \n",
    "    "
   ]
  },
  {
   "cell_type": "code",
   "execution_count": null,
   "id": "9e2b40fa",
   "metadata": {
    "papermill": {
     "duration": 0.068901,
     "end_time": "2022-06-02T06:36:25.254689",
     "exception": false,
     "start_time": "2022-06-02T06:36:25.185788",
     "status": "completed"
    },
    "tags": []
   },
   "outputs": [],
   "source": []
  },
  {
   "cell_type": "code",
   "execution_count": 14,
   "id": "2d0fe571",
   "metadata": {
    "execution": {
     "iopub.execute_input": "2022-06-02T06:36:25.391964Z",
     "iopub.status.busy": "2022-06-02T06:36:25.391566Z",
     "iopub.status.idle": "2022-06-02T06:36:25.838639Z",
     "shell.execute_reply": "2022-06-02T06:36:25.837021Z"
    },
    "papermill": {
     "duration": 0.518562,
     "end_time": "2022-06-02T06:36:25.841162",
     "exception": false,
     "start_time": "2022-06-02T06:36:25.322600",
     "status": "completed"
    },
    "tags": []
   },
   "outputs": [
    {
     "data": {
      "image/png": "[encoded data removed]",
      "text/plain": [
       "<Figure size 432x288 with 1 Axes>"
      ]
     },
     "metadata": {
      "needs_background": "light"
     },
     "output_type": "display_data"
    }
   ],
   "source": [
    "q25, q75 = np.percentile(score, [25, 75])\n",
    "bin_width = 2 * (q75 - q25) * len(score) ** (-1/3)\n",
    "bins = round((np.max(score) - np.min(score)) / bin_width)\n",
    "plt.hist(score, density=True, bins=bins)  # density=False would make counts\n",
    "plt.ylabel('Probability')\n",
    "plt.xlabel('Data');"
   ]
  },
  {
   "cell_type": "code",
   "execution_count": 15,
   "id": "226b9f95",
   "metadata": {
    "execution": {
     "iopub.execute_input": "2022-06-02T06:36:25.979896Z",
     "iopub.status.busy": "2022-06-02T06:36:25.979490Z",
     "iopub.status.idle": "2022-06-02T06:36:25.990702Z",
     "shell.execute_reply": "2022-06-02T06:36:25.989472Z"
    },
    "papermill": {
     "duration": 0.083383,
     "end_time": "2022-06-02T06:36:25.992768",
     "exception": false,
     "start_time": "2022-06-02T06:36:25.909385",
     "status": "completed"
    },
    "tags": []
   },
   "outputs": [
    {
     "data": {
      "text/plain": [
       "(array(['Negative', 'Neutral', 'Positive'], dtype='<U8'),\n",
       " array([1527, 2504, 2726]))"
      ]
     },
     "execution_count": 15,
     "metadata": {},
     "output_type": "execute_result"
    }
   ],
   "source": [
    "np.unique(sentiment, return_counts=True)"
   ]
  },
  {
   "cell_type": "code",
   "execution_count": 16,
   "id": "ffcbd8f4",
   "metadata": {
    "execution": {
     "iopub.execute_input": "2022-06-02T06:36:26.133151Z",
     "iopub.status.busy": "2022-06-02T06:36:26.132387Z",
     "iopub.status.idle": "2022-06-02T06:36:26.145578Z",
     "shell.execute_reply": "2022-06-02T06:36:26.144547Z"
    },
    "papermill": {
     "duration": 0.086259,
     "end_time": "2022-06-02T06:36:26.147963",
     "exception": false,
     "start_time": "2022-06-02T06:36:26.061704",
     "status": "completed"
    },
    "tags": []
   },
   "outputs": [],
   "source": [
    "data = pd.DataFrame(list(zip(tweets,score, sentiment)), columns = ['tweets','polarity', 'sentiment'])"
   ]
  },
  {
   "cell_type": "code",
   "execution_count": 17,
   "id": "12977074",
   "metadata": {
    "execution": {
     "iopub.execute_input": "2022-06-02T06:36:26.287949Z",
     "iopub.status.busy": "2022-06-02T06:36:26.287271Z",
     "iopub.status.idle": "2022-06-02T06:36:26.293292Z",
     "shell.execute_reply": "2022-06-02T06:36:26.292068Z"
    },
    "papermill": {
     "duration": 0.079125,
     "end_time": "2022-06-02T06:36:26.295320",
     "exception": false,
     "start_time": "2022-06-02T06:36:26.216195",
     "status": "completed"
    },
    "tags": []
   },
   "outputs": [
    {
     "data": {
      "text/plain": [
       "6757"
      ]
     },
     "execution_count": 17,
     "metadata": {},
     "output_type": "execute_result"
    }
   ],
   "source": [
    "len(tweets)"
   ]
  },
  {
   "cell_type": "code",
   "execution_count": 18,
   "id": "c71d5820",
   "metadata": {
    "execution": {
     "iopub.execute_input": "2022-06-02T06:36:26.433257Z",
     "iopub.status.busy": "2022-06-02T06:36:26.432818Z",
     "iopub.status.idle": "2022-06-02T06:36:26.440048Z",
     "shell.execute_reply": "2022-06-02T06:36:26.439041Z"
    },
    "papermill": {
     "duration": 0.079067,
     "end_time": "2022-06-02T06:36:26.442518",
     "exception": false,
     "start_time": "2022-06-02T06:36:26.363451",
     "status": "completed"
    },
    "tags": []
   },
   "outputs": [
    {
     "data": {
      "text/plain": [
       "6757"
      ]
     },
     "execution_count": 18,
     "metadata": {},
     "output_type": "execute_result"
    }
   ],
   "source": [
    "len(sentiment)"
   ]
  },
  {
   "cell_type": "code",
   "execution_count": 19,
   "id": "63564ed3",
   "metadata": {
    "execution": {
     "iopub.execute_input": "2022-06-02T06:36:26.582269Z",
     "iopub.status.busy": "2022-06-02T06:36:26.581244Z",
     "iopub.status.idle": "2022-06-02T06:36:26.600658Z",
     "shell.execute_reply": "2022-06-02T06:36:26.599605Z"
    },
    "papermill": {
     "duration": 0.091376,
     "end_time": "2022-06-02T06:36:26.603114",
     "exception": false,
     "start_time": "2022-06-02T06:36:26.511738",
     "status": "completed"
    },
    "tags": []
   },
   "outputs": [
    {
     "data": {
      "text/html": [
       "<div>\n",
       "<style scoped>\n",
       "    .dataframe tbody tr th:only-of-type {\n",
       "        vertical-align: middle;\n",
       "    }\n",
       "\n",
       "    .dataframe tbody tr th {\n",
       "        vertical-align: top;\n",
       "    }\n",
       "\n",
       "    .dataframe thead th {\n",
       "        text-align: right;\n",
       "    }\n",
       "</style>\n",
       "<table border=\"1\" class=\"dataframe\">\n",
       "  <thead>\n",
       "    <tr style=\"text-align: right;\">\n",
       "      <th></th>\n",
       "      <th>tweets</th>\n",
       "      <th>polarity</th>\n",
       "      <th>sentiment</th>\n",
       "    </tr>\n",
       "  </thead>\n",
       "  <tbody>\n",
       "    <tr>\n",
       "      <th>0</th>\n",
       "      <td>LIVE: Watch verdict in Johnny Depp Amber Heard...</td>\n",
       "      <td>0.136364</td>\n",
       "      <td>Positive</td>\n",
       "    </tr>\n",
       "    <tr>\n",
       "      <th>1</th>\n",
       "      <td>@calgarysun \"Tell them, I, Johnny Depp, I'm a ...</td>\n",
       "      <td>0.141667</td>\n",
       "      <td>Positive</td>\n",
       "    </tr>\n",
       "    <tr>\n",
       "      <th>2</th>\n",
       "      <td>Except you didn’t say that the jury said Amber...</td>\n",
       "      <td>0.250000</td>\n",
       "      <td>Positive</td>\n",
       "    </tr>\n",
       "    <tr>\n",
       "      <th>3</th>\n",
       "      <td>The punitive damages tells what the jury was t...</td>\n",
       "      <td>0.000000</td>\n",
       "      <td>Neutral</td>\n",
       "    </tr>\n",
       "    <tr>\n",
       "      <th>4</th>\n",
       "      <td>And Johnny Depp states: “ The Best Is Yet To C...</td>\n",
       "      <td>1.000000</td>\n",
       "      <td>Positive</td>\n",
       "    </tr>\n",
       "    <tr>\n",
       "      <th>...</th>\n",
       "      <td>...</td>\n",
       "      <td>...</td>\n",
       "      <td>...</td>\n",
       "    </tr>\n",
       "    <tr>\n",
       "      <th>6752</th>\n",
       "      <td>Johnny Depp Awarded More Than $10M in Libel Su...</td>\n",
       "      <td>0.500000</td>\n",
       "      <td>Positive</td>\n",
       "    </tr>\n",
       "    <tr>\n",
       "      <th>6753</th>\n",
       "      <td>@skzfurryera the fallout from the Johnny depp ...</td>\n",
       "      <td>-0.419643</td>\n",
       "      <td>Negative</td>\n",
       "    </tr>\n",
       "    <tr>\n",
       "      <th>6754</th>\n",
       "      <td>Johnny Depp vs Amber Heard Trial - Jack Sparro...</td>\n",
       "      <td>0.000000</td>\n",
       "      <td>Neutral</td>\n",
       "    </tr>\n",
       "    <tr>\n",
       "      <th>6755</th>\n",
       "      <td>My thoughts on the Amber Heard - Johnny Depp t...</td>\n",
       "      <td>0.000000</td>\n",
       "      <td>Neutral</td>\n",
       "    </tr>\n",
       "    <tr>\n",
       "      <th>6756</th>\n",
       "      <td>Messi 🐐 won, Zinchenko won Johnny Depp won and...</td>\n",
       "      <td>0.450000</td>\n",
       "      <td>Positive</td>\n",
       "    </tr>\n",
       "  </tbody>\n",
       "</table>\n",
       "<p>6757 rows × 3 columns</p>\n",
       "</div>"
      ],
      "text/plain": [
       "                                                 tweets  polarity sentiment\n",
       "0     LIVE: Watch verdict in Johnny Depp Amber Heard...  0.136364  Positive\n",
       "1     @calgarysun \"Tell them, I, Johnny Depp, I'm a ...  0.141667  Positive\n",
       "2     Except you didn’t say that the jury said Amber...  0.250000  Positive\n",
       "3     The punitive damages tells what the jury was t...  0.000000   Neutral\n",
       "4     And Johnny Depp states: “ The Best Is Yet To C...  1.000000  Positive\n",
       "...                                                 ...       ...       ...\n",
       "6752  Johnny Depp Awarded More Than $10M in Libel Su...  0.500000  Positive\n",
       "6753  @skzfurryera the fallout from the Johnny depp ... -0.419643  Negative\n",
       "6754  Johnny Depp vs Amber Heard Trial - Jack Sparro...  0.000000   Neutral\n",
       "6755  My thoughts on the Amber Heard - Johnny Depp t...  0.000000   Neutral\n",
       "6756  Messi 🐐 won, Zinchenko won Johnny Depp won and...  0.450000  Positive\n",
       "\n",
       "[6757 rows x 3 columns]"
      ]
     },
     "execution_count": 19,
     "metadata": {},
     "output_type": "execute_result"
    }
   ],
   "source": [
    "data"
   ]
  },
  {
   "cell_type": "code",
   "execution_count": 20,
   "id": "2fa00cd5",
   "metadata": {
    "execution": {
     "iopub.execute_input": "2022-06-02T06:36:26.757120Z",
     "iopub.status.busy": "2022-06-02T06:36:26.755811Z",
     "iopub.status.idle": "2022-06-02T06:36:27.003730Z",
     "shell.execute_reply": "2022-06-02T06:36:27.001997Z"
    },
    "papermill": {
     "duration": 0.334694,
     "end_time": "2022-06-02T06:36:27.006788",
     "exception": false,
     "start_time": "2022-06-02T06:36:26.672094",
     "status": "completed"
    },
    "tags": []
   },
   "outputs": [
    {
     "data": {
      "text/plain": [
       "[Text(0, 0, '2726'), Text(0, 0, '2504'), Text(0, 0, '1527')]"
      ]
     },
     "execution_count": 20,
     "metadata": {},
     "output_type": "execute_result"
    },
    {
     "data": {
      "image/png": "[encoded data removed]",
      "text/plain": [
       "<Figure size 432x288 with 1 Axes>"
      ]
     },
     "metadata": {
      "needs_background": "light"
     },
     "output_type": "display_data"
    }
   ],
   "source": [
    "ax = data.sentiment.value_counts().plot.barh()\n",
    "\n",
    "ax.bar_label(ax.containers[0])"
   ]
  },
  {
   "cell_type": "code",
   "execution_count": 21,
   "id": "4d14c3a7",
   "metadata": {
    "execution": {
     "iopub.execute_input": "2022-06-02T06:36:27.149341Z",
     "iopub.status.busy": "2022-06-02T06:36:27.147610Z",
     "iopub.status.idle": "2022-06-02T06:36:27.167855Z",
     "shell.execute_reply": "2022-06-02T06:36:27.167067Z"
    },
    "papermill": {
     "duration": 0.092883,
     "end_time": "2022-06-02T06:36:27.170193",
     "exception": false,
     "start_time": "2022-06-02T06:36:27.077310",
     "status": "completed"
    },
    "tags": []
   },
   "outputs": [
    {
     "data": {
      "text/html": [
       "<div>\n",
       "<style scoped>\n",
       "    .dataframe tbody tr th:only-of-type {\n",
       "        vertical-align: middle;\n",
       "    }\n",
       "\n",
       "    .dataframe tbody tr th {\n",
       "        vertical-align: top;\n",
       "    }\n",
       "\n",
       "    .dataframe thead th {\n",
       "        text-align: right;\n",
       "    }\n",
       "</style>\n",
       "<table border=\"1\" class=\"dataframe\">\n",
       "  <thead>\n",
       "    <tr style=\"text-align: right;\">\n",
       "      <th></th>\n",
       "      <th>tweets</th>\n",
       "      <th>polarity</th>\n",
       "      <th>sentiment</th>\n",
       "    </tr>\n",
       "  </thead>\n",
       "  <tbody>\n",
       "    <tr>\n",
       "      <th>0</th>\n",
       "      <td>bruh, I'm just glad the Johnny Depp and Amber ...</td>\n",
       "      <td>-0.107143</td>\n",
       "      <td>Negative</td>\n",
       "    </tr>\n",
       "    <tr>\n",
       "      <th>1</th>\n",
       "      <td>The whole world at this point is aware of the ...</td>\n",
       "      <td>-0.158333</td>\n",
       "      <td>Negative</td>\n",
       "    </tr>\n",
       "    <tr>\n",
       "      <th>2</th>\n",
       "      <td>listen babes abuse is serious. so is lying.  s...</td>\n",
       "      <td>-0.204167</td>\n",
       "      <td>Negative</td>\n",
       "    </tr>\n",
       "    <tr>\n",
       "      <th>3</th>\n",
       "      <td>@VanDerMohammed Just leave her be Jesus Christ...</td>\n",
       "      <td>-1.000000</td>\n",
       "      <td>Negative</td>\n",
       "    </tr>\n",
       "    <tr>\n",
       "      <th>4</th>\n",
       "      <td>JOHNNY DEPP WINS! Amber Heard FOUND GUILTY of ...</td>\n",
       "      <td>-0.125000</td>\n",
       "      <td>Negative</td>\n",
       "    </tr>\n",
       "    <tr>\n",
       "      <th>...</th>\n",
       "      <td>...</td>\n",
       "      <td>...</td>\n",
       "      <td>...</td>\n",
       "    </tr>\n",
       "    <tr>\n",
       "      <th>1522</th>\n",
       "      <td>finally the johnny depp amber heard shit is ov...</td>\n",
       "      <td>-0.200000</td>\n",
       "      <td>Negative</td>\n",
       "    </tr>\n",
       "    <tr>\n",
       "      <th>1523</th>\n",
       "      <td>JOHNNY DEPP WINS! Amber Heard FOUND GUILTY of ...</td>\n",
       "      <td>-0.125000</td>\n",
       "      <td>Negative</td>\n",
       "    </tr>\n",
       "    <tr>\n",
       "      <th>1524</th>\n",
       "      <td>JOHNNY FUCKING DEPP HAS WON HIS DEFAMATION LAW...</td>\n",
       "      <td>-0.750000</td>\n",
       "      <td>Negative</td>\n",
       "    </tr>\n",
       "    <tr>\n",
       "      <th>1525</th>\n",
       "      <td>@uzohak @Jessica86734608 @StevieLeeStorm I lov...</td>\n",
       "      <td>-0.025000</td>\n",
       "      <td>Negative</td>\n",
       "    </tr>\n",
       "    <tr>\n",
       "      <th>1526</th>\n",
       "      <td>@skzfurryera the fallout from the Johnny depp ...</td>\n",
       "      <td>-0.419643</td>\n",
       "      <td>Negative</td>\n",
       "    </tr>\n",
       "  </tbody>\n",
       "</table>\n",
       "<p>1527 rows × 3 columns</p>\n",
       "</div>"
      ],
      "text/plain": [
       "                                                 tweets  polarity sentiment\n",
       "0     bruh, I'm just glad the Johnny Depp and Amber ... -0.107143  Negative\n",
       "1     The whole world at this point is aware of the ... -0.158333  Negative\n",
       "2     listen babes abuse is serious. so is lying.  s... -0.204167  Negative\n",
       "3     @VanDerMohammed Just leave her be Jesus Christ... -1.000000  Negative\n",
       "4     JOHNNY DEPP WINS! Amber Heard FOUND GUILTY of ... -0.125000  Negative\n",
       "...                                                 ...       ...       ...\n",
       "1522  finally the johnny depp amber heard shit is ov... -0.200000  Negative\n",
       "1523  JOHNNY DEPP WINS! Amber Heard FOUND GUILTY of ... -0.125000  Negative\n",
       "1524  JOHNNY FUCKING DEPP HAS WON HIS DEFAMATION LAW... -0.750000  Negative\n",
       "1525  @uzohak @Jessica86734608 @StevieLeeStorm I lov... -0.025000  Negative\n",
       "1526  @skzfurryera the fallout from the Johnny depp ... -0.419643  Negative\n",
       "\n",
       "[1527 rows x 3 columns]"
      ]
     },
     "execution_count": 21,
     "metadata": {},
     "output_type": "execute_result"
    }
   ],
   "source": [
    "negative=data[data.sentiment=='Negative'].reset_index(drop=True)\n",
    "negative"
   ]
  },
  {
   "cell_type": "markdown",
   "id": "a39caa0f",
   "metadata": {
    "papermill": {
     "duration": 0.070138,
     "end_time": "2022-06-02T06:36:27.310791",
     "exception": false,
     "start_time": "2022-06-02T06:36:27.240653",
     "status": "completed"
    },
    "tags": []
   },
   "source": [
    "**Negative tweet example**"
   ]
  },
  {
   "cell_type": "code",
   "execution_count": 22,
   "id": "6a3f0134",
   "metadata": {
    "execution": {
     "iopub.execute_input": "2022-06-02T06:36:27.453696Z",
     "iopub.status.busy": "2022-06-02T06:36:27.453213Z",
     "iopub.status.idle": "2022-06-02T06:36:27.459815Z",
     "shell.execute_reply": "2022-06-02T06:36:27.458816Z"
    },
    "papermill": {
     "duration": 0.079892,
     "end_time": "2022-06-02T06:36:27.461757",
     "exception": false,
     "start_time": "2022-06-02T06:36:27.381865",
     "status": "completed"
    },
    "tags": []
   },
   "outputs": [
    {
     "data": {
      "text/plain": [
       "'The Johnny Depp and Amber Heard shit show has finally ended with Heard owing Depp 13 million in damages.'"
      ]
     },
     "execution_count": 22,
     "metadata": {},
     "output_type": "execute_result"
    }
   ],
   "source": [
    "negative.tweets[6]"
   ]
  },
  {
   "cell_type": "code",
   "execution_count": 23,
   "id": "de611360",
   "metadata": {
    "execution": {
     "iopub.execute_input": "2022-06-02T06:36:27.603111Z",
     "iopub.status.busy": "2022-06-02T06:36:27.602381Z",
     "iopub.status.idle": "2022-06-02T06:36:27.621535Z",
     "shell.execute_reply": "2022-06-02T06:36:27.620538Z"
    },
    "papermill": {
     "duration": 0.092937,
     "end_time": "2022-06-02T06:36:27.623953",
     "exception": false,
     "start_time": "2022-06-02T06:36:27.531016",
     "status": "completed"
    },
    "tags": []
   },
   "outputs": [
    {
     "data": {
      "text/html": [
       "<div>\n",
       "<style scoped>\n",
       "    .dataframe tbody tr th:only-of-type {\n",
       "        vertical-align: middle;\n",
       "    }\n",
       "\n",
       "    .dataframe tbody tr th {\n",
       "        vertical-align: top;\n",
       "    }\n",
       "\n",
       "    .dataframe thead th {\n",
       "        text-align: right;\n",
       "    }\n",
       "</style>\n",
       "<table border=\"1\" class=\"dataframe\">\n",
       "  <thead>\n",
       "    <tr style=\"text-align: right;\">\n",
       "      <th></th>\n",
       "      <th>tweets</th>\n",
       "      <th>polarity</th>\n",
       "      <th>sentiment</th>\n",
       "    </tr>\n",
       "  </thead>\n",
       "  <tbody>\n",
       "    <tr>\n",
       "      <th>0</th>\n",
       "      <td>LIVE: Watch verdict in Johnny Depp Amber Heard...</td>\n",
       "      <td>0.136364</td>\n",
       "      <td>Positive</td>\n",
       "    </tr>\n",
       "    <tr>\n",
       "      <th>1</th>\n",
       "      <td>@calgarysun \"Tell them, I, Johnny Depp, I'm a ...</td>\n",
       "      <td>0.141667</td>\n",
       "      <td>Positive</td>\n",
       "    </tr>\n",
       "    <tr>\n",
       "      <th>2</th>\n",
       "      <td>Except you didn’t say that the jury said Amber...</td>\n",
       "      <td>0.250000</td>\n",
       "      <td>Positive</td>\n",
       "    </tr>\n",
       "    <tr>\n",
       "      <th>3</th>\n",
       "      <td>And Johnny Depp states: “ The Best Is Yet To C...</td>\n",
       "      <td>1.000000</td>\n",
       "      <td>Positive</td>\n",
       "    </tr>\n",
       "    <tr>\n",
       "      <th>4</th>\n",
       "      <td>I completely disagree. All of us are flawed. T...</td>\n",
       "      <td>0.280000</td>\n",
       "      <td>Positive</td>\n",
       "    </tr>\n",
       "    <tr>\n",
       "      <th>...</th>\n",
       "      <td>...</td>\n",
       "      <td>...</td>\n",
       "      <td>...</td>\n",
       "    </tr>\n",
       "    <tr>\n",
       "      <th>2721</th>\n",
       "      <td>Social media was quick to respond to the verdi...</td>\n",
       "      <td>0.183333</td>\n",
       "      <td>Positive</td>\n",
       "    </tr>\n",
       "    <tr>\n",
       "      <th>2722</th>\n",
       "      <td>So, basically, \"you're both assholes. one of y...</td>\n",
       "      <td>0.187500</td>\n",
       "      <td>Positive</td>\n",
       "    </tr>\n",
       "    <tr>\n",
       "      <th>2723</th>\n",
       "      <td>🚨 |  Johnny Depp wins the defamation lawsuit a...</td>\n",
       "      <td>0.150000</td>\n",
       "      <td>Positive</td>\n",
       "    </tr>\n",
       "    <tr>\n",
       "      <th>2724</th>\n",
       "      <td>Johnny Depp Awarded More Than $10M in Libel Su...</td>\n",
       "      <td>0.500000</td>\n",
       "      <td>Positive</td>\n",
       "    </tr>\n",
       "    <tr>\n",
       "      <th>2725</th>\n",
       "      <td>Messi 🐐 won, Zinchenko won Johnny Depp won and...</td>\n",
       "      <td>0.450000</td>\n",
       "      <td>Positive</td>\n",
       "    </tr>\n",
       "  </tbody>\n",
       "</table>\n",
       "<p>2726 rows × 3 columns</p>\n",
       "</div>"
      ],
      "text/plain": [
       "                                                 tweets  polarity sentiment\n",
       "0     LIVE: Watch verdict in Johnny Depp Amber Heard...  0.136364  Positive\n",
       "1     @calgarysun \"Tell them, I, Johnny Depp, I'm a ...  0.141667  Positive\n",
       "2     Except you didn’t say that the jury said Amber...  0.250000  Positive\n",
       "3     And Johnny Depp states: “ The Best Is Yet To C...  1.000000  Positive\n",
       "4     I completely disagree. All of us are flawed. T...  0.280000  Positive\n",
       "...                                                 ...       ...       ...\n",
       "2721  Social media was quick to respond to the verdi...  0.183333  Positive\n",
       "2722  So, basically, \"you're both assholes. one of y...  0.187500  Positive\n",
       "2723  🚨 |  Johnny Depp wins the defamation lawsuit a...  0.150000  Positive\n",
       "2724  Johnny Depp Awarded More Than $10M in Libel Su...  0.500000  Positive\n",
       "2725  Messi 🐐 won, Zinchenko won Johnny Depp won and...  0.450000  Positive\n",
       "\n",
       "[2726 rows x 3 columns]"
      ]
     },
     "execution_count": 23,
     "metadata": {},
     "output_type": "execute_result"
    }
   ],
   "source": [
    "positive=data[data.sentiment=='Positive'].reset_index(drop=True)\n",
    "positive"
   ]
  },
  {
   "cell_type": "markdown",
   "id": "ec83d293",
   "metadata": {
    "papermill": {
     "duration": 0.070477,
     "end_time": "2022-06-02T06:36:27.764391",
     "exception": false,
     "start_time": "2022-06-02T06:36:27.693914",
     "status": "completed"
    },
    "tags": []
   },
   "source": [
    "**Positive tweet example**"
   ]
  },
  {
   "cell_type": "code",
   "execution_count": 24,
   "id": "890c57da",
   "metadata": {
    "execution": {
     "iopub.execute_input": "2022-06-02T06:36:27.907509Z",
     "iopub.status.busy": "2022-06-02T06:36:27.906673Z",
     "iopub.status.idle": "2022-06-02T06:36:27.913724Z",
     "shell.execute_reply": "2022-06-02T06:36:27.912459Z"
    },
    "papermill": {
     "duration": 0.081878,
     "end_time": "2022-06-02T06:36:27.916006",
     "exception": false,
     "start_time": "2022-06-02T06:36:27.834128",
     "status": "completed"
    },
    "tags": []
   },
   "outputs": [
    {
     "data": {
      "text/plain": [
       "'And Johnny Depp states: “ The Best Is Yet To Come.”    Hmmm. Where have we heard THAT before? Yay Johnny! #NCSWIC #DeppVHeardTrial #LFG'"
      ]
     },
     "execution_count": 24,
     "metadata": {},
     "output_type": "execute_result"
    }
   ],
   "source": [
    "positive.tweets[3]"
   ]
  },
  {
   "cell_type": "code",
   "execution_count": 25,
   "id": "68a0409b",
   "metadata": {
    "execution": {
     "iopub.execute_input": "2022-06-02T06:36:28.060437Z",
     "iopub.status.busy": "2022-06-02T06:36:28.059924Z",
     "iopub.status.idle": "2022-06-02T06:36:28.080248Z",
     "shell.execute_reply": "2022-06-02T06:36:28.079115Z"
    },
    "papermill": {
     "duration": 0.09498,
     "end_time": "2022-06-02T06:36:28.082520",
     "exception": false,
     "start_time": "2022-06-02T06:36:27.987540",
     "status": "completed"
    },
    "tags": []
   },
   "outputs": [
    {
     "data": {
      "text/html": [
       "<div>\n",
       "<style scoped>\n",
       "    .dataframe tbody tr th:only-of-type {\n",
       "        vertical-align: middle;\n",
       "    }\n",
       "\n",
       "    .dataframe tbody tr th {\n",
       "        vertical-align: top;\n",
       "    }\n",
       "\n",
       "    .dataframe thead th {\n",
       "        text-align: right;\n",
       "    }\n",
       "</style>\n",
       "<table border=\"1\" class=\"dataframe\">\n",
       "  <thead>\n",
       "    <tr style=\"text-align: right;\">\n",
       "      <th></th>\n",
       "      <th>tweets</th>\n",
       "      <th>polarity</th>\n",
       "      <th>sentiment</th>\n",
       "    </tr>\n",
       "  </thead>\n",
       "  <tbody>\n",
       "    <tr>\n",
       "      <th>0</th>\n",
       "      <td>The punitive damages tells what the jury was t...</td>\n",
       "      <td>0.000</td>\n",
       "      <td>Neutral</td>\n",
       "    </tr>\n",
       "    <tr>\n",
       "      <th>1</th>\n",
       "      <td>“Johnny Depp’s fantasy was to Murder His Wife ...</td>\n",
       "      <td>0.000</td>\n",
       "      <td>Neutral</td>\n",
       "    </tr>\n",
       "    <tr>\n",
       "      <th>2</th>\n",
       "      <td>Na Amber Heard and Johnny Depp run case na Dam...</td>\n",
       "      <td>0.000</td>\n",
       "      <td>Neutral</td>\n",
       "    </tr>\n",
       "    <tr>\n",
       "      <th>3</th>\n",
       "      <td>Today, my wife met a real-life adult human who...</td>\n",
       "      <td>0.075</td>\n",
       "      <td>Neutral</td>\n",
       "    </tr>\n",
       "    <tr>\n",
       "      <th>4</th>\n",
       "      <td>@CBSNews Oh pleeaassee stop the BS…Amber Heard...</td>\n",
       "      <td>0.000</td>\n",
       "      <td>Neutral</td>\n",
       "    </tr>\n",
       "    <tr>\n",
       "      <th>...</th>\n",
       "      <td>...</td>\n",
       "      <td>...</td>\n",
       "      <td>...</td>\n",
       "    </tr>\n",
       "    <tr>\n",
       "      <th>2499</th>\n",
       "      <td>Now that the Johnny Depp and Amber Heard trial...</td>\n",
       "      <td>0.000</td>\n",
       "      <td>Neutral</td>\n",
       "    </tr>\n",
       "    <tr>\n",
       "      <th>2500</th>\n",
       "      <td>Johnny Depp and Amber Heard Defamation Trial R...</td>\n",
       "      <td>0.000</td>\n",
       "      <td>Neutral</td>\n",
       "    </tr>\n",
       "    <tr>\n",
       "      <th>2501</th>\n",
       "      <td>Justice For Johnny Depp Is Served!!  Amber Hea...</td>\n",
       "      <td>0.000</td>\n",
       "      <td>Neutral</td>\n",
       "    </tr>\n",
       "    <tr>\n",
       "      <th>2502</th>\n",
       "      <td>Johnny Depp vs Amber Heard Trial - Jack Sparro...</td>\n",
       "      <td>0.000</td>\n",
       "      <td>Neutral</td>\n",
       "    </tr>\n",
       "    <tr>\n",
       "      <th>2503</th>\n",
       "      <td>My thoughts on the Amber Heard - Johnny Depp t...</td>\n",
       "      <td>0.000</td>\n",
       "      <td>Neutral</td>\n",
       "    </tr>\n",
       "  </tbody>\n",
       "</table>\n",
       "<p>2504 rows × 3 columns</p>\n",
       "</div>"
      ],
      "text/plain": [
       "                                                 tweets  polarity sentiment\n",
       "0     The punitive damages tells what the jury was t...     0.000   Neutral\n",
       "1     “Johnny Depp’s fantasy was to Murder His Wife ...     0.000   Neutral\n",
       "2     Na Amber Heard and Johnny Depp run case na Dam...     0.000   Neutral\n",
       "3     Today, my wife met a real-life adult human who...     0.075   Neutral\n",
       "4     @CBSNews Oh pleeaassee stop the BS…Amber Heard...     0.000   Neutral\n",
       "...                                                 ...       ...       ...\n",
       "2499  Now that the Johnny Depp and Amber Heard trial...     0.000   Neutral\n",
       "2500  Johnny Depp and Amber Heard Defamation Trial R...     0.000   Neutral\n",
       "2501  Justice For Johnny Depp Is Served!!  Amber Hea...     0.000   Neutral\n",
       "2502  Johnny Depp vs Amber Heard Trial - Jack Sparro...     0.000   Neutral\n",
       "2503  My thoughts on the Amber Heard - Johnny Depp t...     0.000   Neutral\n",
       "\n",
       "[2504 rows x 3 columns]"
      ]
     },
     "execution_count": 25,
     "metadata": {},
     "output_type": "execute_result"
    }
   ],
   "source": [
    "neutral=data[data.sentiment=='Neutral'].reset_index(drop=True)\n",
    "neutral"
   ]
  },
  {
   "cell_type": "markdown",
   "id": "eb3c0d33",
   "metadata": {
    "papermill": {
     "duration": 0.069147,
     "end_time": "2022-06-02T06:36:28.221154",
     "exception": false,
     "start_time": "2022-06-02T06:36:28.152007",
     "status": "completed"
    },
    "tags": []
   },
   "source": [
    "**Neutral tweet example**"
   ]
  },
  {
   "cell_type": "code",
   "execution_count": 26,
   "id": "9d8584fd",
   "metadata": {
    "execution": {
     "iopub.execute_input": "2022-06-02T06:36:28.365821Z",
     "iopub.status.busy": "2022-06-02T06:36:28.365122Z",
     "iopub.status.idle": "2022-06-02T06:36:28.372375Z",
     "shell.execute_reply": "2022-06-02T06:36:28.371194Z"
    },
    "papermill": {
     "duration": 0.082594,
     "end_time": "2022-06-02T06:36:28.374520",
     "exception": false,
     "start_time": "2022-06-02T06:36:28.291926",
     "status": "completed"
    },
    "tags": []
   },
   "outputs": [
    {
     "data": {
      "text/plain": [
       "\"Today, my wife met a real-life adult human who has actually been watching the Johnny Depp/Amber Heard trial. I didn't think those were real.\""
      ]
     },
     "execution_count": 26,
     "metadata": {},
     "output_type": "execute_result"
    }
   ],
   "source": [
    "neutral.tweets[3]"
   ]
  },
  {
   "cell_type": "markdown",
   "id": "ec6e6eef",
   "metadata": {
    "papermill": {
     "duration": 0.071671,
     "end_time": "2022-06-02T06:36:28.518042",
     "exception": false,
     "start_time": "2022-06-02T06:36:28.446371",
     "status": "completed"
    },
    "tags": []
   },
   "source": [
    "**The results seem to be accurate.** \n",
    "\n",
    "**SpacyTextBlob has done a great job for the baseline.**\n",
    "\n",
    "More developments can be done by incroporating contexts to the text. The analysis could be improved if we can conduct multi label analysis. Multi label analysis could help to understand the sentiments better. "
   ]
  }
 ],
 "metadata": {
  "kernelspec": {
   "display_name": "Python 3",
   "language": "python",
   "name": "python3"
  },
  "language_info": {
   "codemirror_mode": {
    "name": "ipython",
    "version": 3
   },
   "file_extension": ".py",
   "mimetype": "text/x-python",
   "name": "python",
   "nbconvert_exporter": "python",
   "pygments_lexer": "ipython3",
   "version": "3.7.12"
  },
  "papermill": {
   "default_parameters": {},
   "duration": 158.308833,
   "end_time": "2022-06-02T06:36:31.269825",
   "environment_variables": {},
   "exception": null,
   "input_path": "__notebook__.ipynb",
   "output_path": "__notebook__.ipynb",
   "parameters": {},
   "start_time": "2022-06-02T06:33:52.960992",
   "version": "2.3.4"
  }
 },
 "nbformat": 4,
 "nbformat_minor": 5
}
